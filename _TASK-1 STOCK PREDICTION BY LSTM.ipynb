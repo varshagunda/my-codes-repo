{
 "cells": [
  {
   "cell_type": "code",
   "execution_count": 30,
   "id": "ca4315c1",
   "metadata": {},
   "outputs": [],
   "source": [
    "#import libraries\n",
    "import os\n",
    "import sys\n",
    "import numpy as np\n",
    "import pandas as pd \n",
    "import matplotlib.pyplot as plt\n",
    "%matplotlib inline"
   ]
  },
  {
   "cell_type": "code",
   "execution_count": 31,
   "id": "6cb86293",
   "metadata": {},
   "outputs": [
    {
     "data": {
      "text/html": [
       "<div>\n",
       "<style scoped>\n",
       "    .dataframe tbody tr th:only-of-type {\n",
       "        vertical-align: middle;\n",
       "    }\n",
       "\n",
       "    .dataframe tbody tr th {\n",
       "        vertical-align: top;\n",
       "    }\n",
       "\n",
       "    .dataframe thead th {\n",
       "        text-align: right;\n",
       "    }\n",
       "</style>\n",
       "<table border=\"1\" class=\"dataframe\">\n",
       "  <thead>\n",
       "    <tr style=\"text-align: right;\">\n",
       "      <th></th>\n",
       "      <th>Date</th>\n",
       "      <th>Open</th>\n",
       "      <th>High</th>\n",
       "      <th>Low</th>\n",
       "      <th>Close</th>\n",
       "      <th>Volume</th>\n",
       "    </tr>\n",
       "  </thead>\n",
       "  <tbody>\n",
       "    <tr>\n",
       "      <th>0</th>\n",
       "      <td>1/3/2012</td>\n",
       "      <td>325.25</td>\n",
       "      <td>332.83</td>\n",
       "      <td>324.97</td>\n",
       "      <td>663.59</td>\n",
       "      <td>7,380,500</td>\n",
       "    </tr>\n",
       "    <tr>\n",
       "      <th>1</th>\n",
       "      <td>1/4/2012</td>\n",
       "      <td>331.27</td>\n",
       "      <td>333.87</td>\n",
       "      <td>329.08</td>\n",
       "      <td>666.45</td>\n",
       "      <td>5,749,400</td>\n",
       "    </tr>\n",
       "    <tr>\n",
       "      <th>2</th>\n",
       "      <td>1/5/2012</td>\n",
       "      <td>329.83</td>\n",
       "      <td>330.75</td>\n",
       "      <td>326.89</td>\n",
       "      <td>657.21</td>\n",
       "      <td>6,590,300</td>\n",
       "    </tr>\n",
       "    <tr>\n",
       "      <th>3</th>\n",
       "      <td>1/6/2012</td>\n",
       "      <td>328.34</td>\n",
       "      <td>328.77</td>\n",
       "      <td>323.68</td>\n",
       "      <td>648.24</td>\n",
       "      <td>5,405,900</td>\n",
       "    </tr>\n",
       "    <tr>\n",
       "      <th>4</th>\n",
       "      <td>1/9/2012</td>\n",
       "      <td>322.04</td>\n",
       "      <td>322.29</td>\n",
       "      <td>309.46</td>\n",
       "      <td>620.76</td>\n",
       "      <td>11,688,800</td>\n",
       "    </tr>\n",
       "  </tbody>\n",
       "</table>\n",
       "</div>"
      ],
      "text/plain": [
       "       Date    Open    High     Low   Close      Volume\n",
       "0  1/3/2012  325.25  332.83  324.97  663.59   7,380,500\n",
       "1  1/4/2012  331.27  333.87  329.08  666.45   5,749,400\n",
       "2  1/5/2012  329.83  330.75  326.89  657.21   6,590,300\n",
       "3  1/6/2012  328.34  328.77  323.68  648.24   5,405,900\n",
       "4  1/9/2012  322.04  322.29  309.46  620.76  11,688,800"
      ]
     },
     "execution_count": 31,
     "metadata": {},
     "output_type": "execute_result"
    }
   ],
   "source": [
    "#load dataset\n",
    "dataset_train = pd.read_csv(\"Bharatintern_Stock_Price_Train.csv\")\n",
    "dataset_train.head()"
   ]
  },
  {
   "cell_type": "code",
   "execution_count": 32,
   "id": "cdc46c72",
   "metadata": {},
   "outputs": [
    {
     "name": "stdout",
     "output_type": "stream",
     "text": [
      "        Open\n",
      "0     325.25\n",
      "1     331.27\n",
      "2     329.83\n",
      "3     328.34\n",
      "4     322.04\n",
      "...      ...\n",
      "1253  790.90\n",
      "1254  790.68\n",
      "1255  793.70\n",
      "1256  783.33\n",
      "1257  782.75\n",
      "\n",
      "[1258 rows x 1 columns]\n",
      "(1258, 1)\n"
     ]
    }
   ],
   "source": [
    "training_set = dataset_train.iloc[:,1:2]\n",
    "print(training_set)\n",
    "print(training_set.shape)"
   ]
  },
  {
   "cell_type": "code",
   "execution_count": 34,
   "id": "647980ec",
   "metadata": {},
   "outputs": [
    {
     "data": {
      "text/plain": [
       "array([[0.08581368],\n",
       "       [0.09701243],\n",
       "       [0.09433366],\n",
       "       ...,\n",
       "       [0.95725128],\n",
       "       [0.93796041],\n",
       "       [0.93688146]])"
      ]
     },
     "execution_count": 34,
     "metadata": {},
     "output_type": "execute_result"
    }
   ],
   "source": [
    "from sklearn.preprocessing import MinMaxScaler\n",
    "\n",
    "scaler = MinMaxScaler(feature_range = (0,1))\n",
    "scaled_training_set = scaler.fit_transform(training_set)\n",
    "\n",
    "scaled_training_set"
   ]
  },
  {
   "cell_type": "code",
   "execution_count": 35,
   "id": "b20bfa8f",
   "metadata": {},
   "outputs": [],
   "source": [
    "X_train = []\n",
    "Y_train = []\n",
    "for i in range(60,1258):\n",
    "    X_train.append(scaled_training_set[i-60:i,0])\n",
    "    Y_train.append(scaled_training_set[i,0])\n",
    "X_train = np.array(X_train)\n",
    "Y_train = np.array(Y_train)"
   ]
  },
  {
   "cell_type": "code",
   "execution_count": 36,
   "id": "4de71257",
   "metadata": {},
   "outputs": [
    {
     "name": "stdout",
     "output_type": "stream",
     "text": [
      "(1198, 60)\n",
      "[[0.08581368 0.09701243 0.09433366 ... 0.07846566 0.08034452 0.08497656]\n",
      " [0.09701243 0.09433366 0.09156187 ... 0.08034452 0.08497656 0.08627874]\n",
      " [0.09433366 0.09156187 0.07984225 ... 0.08497656 0.08627874 0.08471612]\n",
      " ...\n",
      " [0.92106928 0.92438053 0.93048218 ... 0.95475854 0.95204256 0.95163331]\n",
      " [0.92438053 0.93048218 0.9299055  ... 0.95204256 0.95163331 0.95725128]\n",
      " [0.93048218 0.9299055  0.93113327 ... 0.95163331 0.95725128 0.93796041]]\n",
      "(1198,)\n"
     ]
    }
   ],
   "source": [
    "print(X_train.shape)\n",
    "print(X_train)\n",
    "print(Y_train.shape)"
   ]
  },
  {
   "cell_type": "code",
   "execution_count": 37,
   "id": "6ee5eb0e",
   "metadata": {},
   "outputs": [
    {
     "data": {
      "text/plain": [
       "(1198, 60, 1)"
      ]
     },
     "execution_count": 37,
     "metadata": {},
     "output_type": "execute_result"
    }
   ],
   "source": [
    "X_train =  np.reshape(X_train,(X_train.shape[0],X_train.shape[1],1))\n",
    "X_train.shape"
   ]
  },
  {
   "cell_type": "code",
   "execution_count": 38,
   "id": "0cca0fba",
   "metadata": {},
   "outputs": [],
   "source": [
    "from keras.models import Sequential\n",
    "#from tensorflow.keras import Sequential\n",
    "from keras.layers import LSTM\n",
    "from keras.layers import Dense\n",
    "from keras.layers import Dropout"
   ]
  },
  {
   "cell_type": "code",
   "execution_count": 39,
   "id": "e33099b7",
   "metadata": {},
   "outputs": [],
   "source": [
    "regressor = Sequential()\n",
    "\n",
    "regressor.add(LSTM(units = 50, return_sequences= True, input_shape = (X_train.shape[1],1)))\n",
    "regressor.add(Dropout(0.2))\n",
    "\n",
    "regressor.add(LSTM(units = 50, return_sequences= True))\n",
    "regressor.add(Dropout(0.2))\n",
    "\n",
    "regressor.add(LSTM(units = 50, return_sequences= True))\n",
    "regressor.add(Dropout(0.2))\n",
    "\n",
    "regressor.add(LSTM(units = 50))\n",
    "regressor.add(Dropout(0.2))\n",
    "\n",
    "regressor.add(Dense(units=1))"
   ]
  },
  {
   "cell_type": "code",
   "execution_count": 40,
   "id": "a88396c6",
   "metadata": {
    "scrolled": false
   },
   "outputs": [
    {
     "name": "stdout",
     "output_type": "stream",
     "text": [
      "Epoch 1/100\n",
      "38/38 [==============================] - 26s 197ms/step - loss: 0.0563\n",
      "Epoch 2/100\n",
      "38/38 [==============================] - 7s 185ms/step - loss: 0.0074\n",
      "Epoch 3/100\n",
      "38/38 [==============================] - 7s 185ms/step - loss: 0.0057\n",
      "Epoch 4/100\n",
      "38/38 [==============================] - 7s 192ms/step - loss: 0.0050\n",
      "Epoch 5/100\n",
      "38/38 [==============================] - 8s 210ms/step - loss: 0.0055\n",
      "Epoch 6/100\n",
      "38/38 [==============================] - 7s 195ms/step - loss: 0.0056\n",
      "Epoch 7/100\n",
      "38/38 [==============================] - 8s 200ms/step - loss: 0.0049\n",
      "Epoch 8/100\n",
      "38/38 [==============================] - 8s 206ms/step - loss: 0.0046\n",
      "Epoch 9/100\n",
      "38/38 [==============================] - 8s 199ms/step - loss: 0.0051\n",
      "Epoch 10/100\n",
      "38/38 [==============================] - 8s 223ms/step - loss: 0.0049\n",
      "Epoch 11/100\n",
      "38/38 [==============================] - 8s 224ms/step - loss: 0.0061\n",
      "Epoch 12/100\n",
      "38/38 [==============================] - 8s 207ms/step - loss: 0.0045\n",
      "Epoch 13/100\n",
      "38/38 [==============================] - 9s 231ms/step - loss: 0.0041\n",
      "Epoch 14/100\n",
      "38/38 [==============================] - 8s 218ms/step - loss: 0.0041\n",
      "Epoch 15/100\n",
      "38/38 [==============================] - 7s 197ms/step - loss: 0.0038\n",
      "Epoch 16/100\n",
      "38/38 [==============================] - 9s 240ms/step - loss: 0.0040\n",
      "Epoch 17/100\n",
      "38/38 [==============================] - 9s 237ms/step - loss: 0.0051\n",
      "Epoch 18/100\n",
      "38/38 [==============================] - 8s 217ms/step - loss: 0.0035\n",
      "Epoch 19/100\n",
      "38/38 [==============================] - 9s 227ms/step - loss: 0.0037\n",
      "Epoch 20/100\n",
      "38/38 [==============================] - 9s 227ms/step - loss: 0.0034\n",
      "Epoch 21/100\n",
      "38/38 [==============================] - 7s 197ms/step - loss: 0.0033\n",
      "Epoch 22/100\n",
      "38/38 [==============================] - 8s 220ms/step - loss: 0.0036\n",
      "Epoch 23/100\n",
      "38/38 [==============================] - 9s 235ms/step - loss: 0.0038\n",
      "Epoch 24/100\n",
      "38/38 [==============================] - 9s 235ms/step - loss: 0.0032\n",
      "Epoch 25/100\n",
      "38/38 [==============================] - 9s 226ms/step - loss: 0.0029\n",
      "Epoch 26/100\n",
      "38/38 [==============================] - 9s 243ms/step - loss: 0.0032\n",
      "Epoch 27/100\n",
      "38/38 [==============================] - 8s 205ms/step - loss: 0.0031\n",
      "Epoch 28/100\n",
      "38/38 [==============================] - 7s 199ms/step - loss: 0.0034\n",
      "Epoch 29/100\n",
      "38/38 [==============================] - 9s 232ms/step - loss: 0.0032\n",
      "Epoch 30/100\n",
      "38/38 [==============================] - 8s 205ms/step - loss: 0.0028\n",
      "Epoch 31/100\n",
      "38/38 [==============================] - 9s 234ms/step - loss: 0.0031\n",
      "Epoch 32/100\n",
      "38/38 [==============================] - 8s 219ms/step - loss: 0.0030\n",
      "Epoch 33/100\n",
      "38/38 [==============================] - 8s 223ms/step - loss: 0.0028\n",
      "Epoch 34/100\n",
      "38/38 [==============================] - 9s 224ms/step - loss: 0.0030\n",
      "Epoch 35/100\n",
      "38/38 [==============================] - 8s 213ms/step - loss: 0.0029\n",
      "Epoch 36/100\n",
      "38/38 [==============================] - 8s 202ms/step - loss: 0.0026\n",
      "Epoch 37/100\n",
      "38/38 [==============================] - 9s 227ms/step - loss: 0.0031\n",
      "Epoch 38/100\n",
      "38/38 [==============================] - 9s 219ms/step - loss: 0.0029\n",
      "Epoch 39/100\n",
      "38/38 [==============================] - 8s 222ms/step - loss: 0.0027\n",
      "Epoch 40/100\n",
      "38/38 [==============================] - 9s 244ms/step - loss: 0.0027\n",
      "Epoch 41/100\n",
      "38/38 [==============================] - 9s 227ms/step - loss: 0.0026\n",
      "Epoch 42/100\n",
      "38/38 [==============================] - 9s 245ms/step - loss: 0.0029\n",
      "Epoch 43/100\n",
      "38/38 [==============================] - 8s 220ms/step - loss: 0.0028\n",
      "Epoch 44/100\n",
      "38/38 [==============================] - 9s 226ms/step - loss: 0.0025\n",
      "Epoch 45/100\n",
      "38/38 [==============================] - 8s 207ms/step - loss: 0.0027\n",
      "Epoch 46/100\n",
      "38/38 [==============================] - 8s 219ms/step - loss: 0.0026\n",
      "Epoch 47/100\n",
      "38/38 [==============================] - 9s 238ms/step - loss: 0.0026\n",
      "Epoch 48/100\n",
      "38/38 [==============================] - 9s 244ms/step - loss: 0.0024\n",
      "Epoch 49/100\n",
      "38/38 [==============================] - 9s 230ms/step - loss: 0.0028\n",
      "Epoch 50/100\n",
      "38/38 [==============================] - 8s 223ms/step - loss: 0.0025\n",
      "Epoch 51/100\n",
      "38/38 [==============================] - 9s 230ms/step - loss: 0.0025\n",
      "Epoch 52/100\n",
      "38/38 [==============================] - 9s 236ms/step - loss: 0.0027\n",
      "Epoch 53/100\n",
      "38/38 [==============================] - 9s 237ms/step - loss: 0.0025\n",
      "Epoch 54/100\n",
      "38/38 [==============================] - 8s 222ms/step - loss: 0.0023\n",
      "Epoch 55/100\n",
      "38/38 [==============================] - 8s 205ms/step - loss: 0.0025\n",
      "Epoch 56/100\n",
      "38/38 [==============================] - 9s 243ms/step - loss: 0.0023\n",
      "Epoch 57/100\n",
      "38/38 [==============================] - 8s 214ms/step - loss: 0.0025\n",
      "Epoch 58/100\n",
      "38/38 [==============================] - 8s 214ms/step - loss: 0.0021\n",
      "Epoch 59/100\n",
      "38/38 [==============================] - 8s 216ms/step - loss: 0.0021\n",
      "Epoch 60/100\n",
      "38/38 [==============================] - 9s 232ms/step - loss: 0.0021\n",
      "Epoch 61/100\n",
      "38/38 [==============================] - 9s 243ms/step - loss: 0.0022\n",
      "Epoch 62/100\n",
      "38/38 [==============================] - 8s 207ms/step - loss: 0.0022\n",
      "Epoch 63/100\n",
      "38/38 [==============================] - 9s 227ms/step - loss: 0.0021\n",
      "Epoch 64/100\n",
      "38/38 [==============================] - 10s 259ms/step - loss: 0.0021\n",
      "Epoch 65/100\n",
      "38/38 [==============================] - 8s 200ms/step - loss: 0.0021\n",
      "Epoch 66/100\n",
      "38/38 [==============================] - 9s 239ms/step - loss: 0.0020\n",
      "Epoch 67/100\n",
      "38/38 [==============================] - 9s 236ms/step - loss: 0.0021\n",
      "Epoch 68/100\n",
      "38/38 [==============================] - 9s 225ms/step - loss: 0.0021\n",
      "Epoch 69/100\n",
      "38/38 [==============================] - 9s 246ms/step - loss: 0.0021\n",
      "Epoch 70/100\n",
      "38/38 [==============================] - 9s 233ms/step - loss: 0.0022\n",
      "Epoch 71/100\n",
      "38/38 [==============================] - 9s 242ms/step - loss: 0.0020\n",
      "Epoch 72/100\n",
      "38/38 [==============================] - 9s 232ms/step - loss: 0.0019\n",
      "Epoch 73/100\n",
      "38/38 [==============================] - 9s 230ms/step - loss: 0.0018\n",
      "Epoch 74/100\n",
      "38/38 [==============================] - 9s 243ms/step - loss: 0.0018\n",
      "Epoch 75/100\n",
      "38/38 [==============================] - 9s 237ms/step - loss: 0.0020\n",
      "Epoch 76/100\n",
      "38/38 [==============================] - 9s 229ms/step - loss: 0.0020\n",
      "Epoch 77/100\n",
      "38/38 [==============================] - 9s 245ms/step - loss: 0.0019\n",
      "Epoch 78/100\n",
      "38/38 [==============================] - 8s 217ms/step - loss: 0.0021\n",
      "Epoch 79/100\n",
      "38/38 [==============================] - 9s 226ms/step - loss: 0.0017\n",
      "Epoch 80/100\n",
      "38/38 [==============================] - 9s 241ms/step - loss: 0.0019\n",
      "Epoch 81/100\n",
      "38/38 [==============================] - 9s 230ms/step - loss: 0.0017\n",
      "Epoch 82/100\n",
      "38/38 [==============================] - 9s 237ms/step - loss: 0.0017\n",
      "Epoch 83/100\n",
      "38/38 [==============================] - 8s 220ms/step - loss: 0.0018\n",
      "Epoch 84/100\n",
      "38/38 [==============================] - 9s 243ms/step - loss: 0.0018\n",
      "Epoch 85/100\n",
      "38/38 [==============================] - 9s 228ms/step - loss: 0.0017\n",
      "Epoch 86/100\n",
      "38/38 [==============================] - 9s 246ms/step - loss: 0.0019\n",
      "Epoch 87/100\n",
      "38/38 [==============================] - 8s 221ms/step - loss: 0.0017\n",
      "Epoch 88/100\n",
      "38/38 [==============================] - 9s 246ms/step - loss: 0.0015\n",
      "Epoch 89/100\n",
      "38/38 [==============================] - 9s 230ms/step - loss: 0.0014\n",
      "Epoch 90/100\n",
      "38/38 [==============================] - 8s 224ms/step - loss: 0.0015\n",
      "Epoch 91/100\n",
      "38/38 [==============================] - 9s 244ms/step - loss: 0.0015\n",
      "Epoch 92/100\n",
      "38/38 [==============================] - 9s 228ms/step - loss: 0.0017\n",
      "Epoch 93/100\n",
      "38/38 [==============================] - 9s 232ms/step - loss: 0.0017\n",
      "Epoch 94/100\n",
      "38/38 [==============================] - 8s 222ms/step - loss: 0.0014\n",
      "Epoch 95/100\n",
      "38/38 [==============================] - 8s 205ms/step - loss: 0.0016\n",
      "Epoch 96/100\n",
      "38/38 [==============================] - 9s 228ms/step - loss: 0.0015\n",
      "Epoch 97/100\n",
      "38/38 [==============================] - 10s 247ms/step - loss: 0.0015\n",
      "Epoch 98/100\n",
      "38/38 [==============================] - 8s 210ms/step - loss: 0.0014\n",
      "Epoch 99/100\n",
      "38/38 [==============================] - 8s 212ms/step - loss: 0.0014\n",
      "Epoch 100/100\n",
      "38/38 [==============================] - 9s 233ms/step - loss: 0.0015\n"
     ]
    },
    {
     "data": {
      "text/plain": [
       "<keras.src.callbacks.History at 0x676e27ee00>"
      ]
     },
     "execution_count": 40,
     "metadata": {},
     "output_type": "execute_result"
    }
   ],
   "source": [
    "regressor.compile(optimizer = 'adam', loss = 'mean_squared_error')\n",
    "regressor.fit(X_train,Y_train, epochs=100, batch_size=32)"
   ]
  },
  {
   "cell_type": "code",
   "execution_count": 41,
   "id": "ff1ecb02",
   "metadata": {},
   "outputs": [],
   "source": [
    "dataset_test = pd.read_csv(\"Bharatintern_Stock_Price_Train.csv\")\n",
    "actual_stock_price = dataset_test.iloc[:500,1:2].values"
   ]
  },
  {
   "cell_type": "code",
   "execution_count": 42,
   "id": "10587ee0",
   "metadata": {},
   "outputs": [],
   "source": [
    "dataset_total = pd.concat((dataset_train['Open'],dataset_test['Open']),axis=0)\n",
    "inputs = dataset_total[len(dataset_total)-len(dataset_test)-60:].values\n",
    "\n",
    "inputs = inputs.reshape(-1,1)\n",
    "inputs = scaler.transform(inputs)\n",
    "\n",
    "x_test = []\n",
    "for i in range(60,500):\n",
    "    x_test.append(inputs[i-60:i,0])\n",
    "x_test = np.array(x_test)\n",
    "x_test = np.reshape(x_test,(x_test.shape[0],x_test.shape[1],1))"
   ]
  },
  {
   "cell_type": "code",
   "execution_count": 43,
   "id": "e18d5f67",
   "metadata": {},
   "outputs": [
    {
     "name": "stdout",
     "output_type": "stream",
     "text": [
      "14/14 [==============================] - 4s 60ms/step\n"
     ]
    }
   ],
   "source": [
    "predicted_stock_price = regressor.predict(x_test)\n",
    "predicted_stock_price = scaler.inverse_transform(predicted_stock_price)"
   ]
  },
  {
   "cell_type": "code",
   "execution_count": 44,
   "id": "da45c8cd",
   "metadata": {},
   "outputs": [
    {
     "data": {
      "image/png": "[encoded data removed]",
      "text/plain": [
       "<Figure size 640x480 with 1 Axes>"
      ]
     },
     "metadata": {},
     "output_type": "display_data"
    }
   ],
   "source": [
    "x = [0.0,2.5,5.0,8.0,10.0,13.0,15.0,18.0,19.0]\n",
    "y = [770,780,790,800,810,820,830,840,850]\n",
    "ax= plt.subplot()\n",
    "plt.plot(actual_stock_price,color='red',label='Actual Stock Price')\n",
    "plt.plot(predicted_stock_price,color='blue',label='Predicted Stock Price')\n",
    "plt.title('Stock Price Prediction')\n",
    "plt.xlabel('Time')\n",
    "plt.ylabel('Stock Price')\n",
    "plt.legend()\n",
    "plt.show()"
   ]
  },
  {
   "cell_type": "code",
   "execution_count": null,
   "id": "5ef23778",
   "metadata": {},
   "outputs": [],
   "source": []
  },
  {
   "cell_type": "code",
   "execution_count": null,
   "id": "6a0ee8b7",
   "metadata": {},
   "outputs": [],
   "source": []
  },
  {
   "cell_type": "code",
   "execution_count": null,
   "id": "4008742d",
   "metadata": {},
   "outputs": [],
   "source": []
  },
  {
   "cell_type": "code",
   "execution_count": null,
   "id": "de0ad5dc",
   "metadata": {},
   "outputs": [],
   "source": []
  },
  {
   "cell_type": "code",
   "execution_count": null,
   "id": "dd31a3b1",
   "metadata": {},
   "outputs": [],
   "source": []
  },
  {
   "cell_type": "code",
   "execution_count": null,
   "id": "d89a7ad7",
   "metadata": {},
   "outputs": [],
   "source": []
  },
  {
   "cell_type": "code",
   "execution_count": null,
   "id": "99029bac",
   "metadata": {},
   "outputs": [],
   "source": []
  },
  {
   "cell_type": "code",
   "execution_count": null,
   "id": "8a32fed2",
   "metadata": {},
   "outputs": [],
   "source": []
  },
  {
   "cell_type": "code",
   "execution_count": null,
   "id": "f114f50a",
   "metadata": {},
   "outputs": [],
   "source": []
  },
  {
   "cell_type": "code",
   "execution_count": null,
   "id": "cc4c906c",
   "metadata": {},
   "outputs": [],
   "source": []
  },
  {
   "cell_type": "code",
   "execution_count": null,
   "id": "1e6e7523",
   "metadata": {},
   "outputs": [],
   "source": []
  },
  {
   "cell_type": "code",
   "execution_count": null,
   "id": "280b98c5",
   "metadata": {},
   "outputs": [],
   "source": []
  },
  {
   "cell_type": "code",
   "execution_count": null,
   "id": "2f712262",
   "metadata": {},
   "outputs": [],
   "source": []
  },
  {
   "cell_type": "code",
   "execution_count": null,
   "id": "18ca9d3a",
   "metadata": {},
   "outputs": [],
   "source": []
  },
  {
   "cell_type": "code",
   "execution_count": null,
   "id": "989cb1c3",
   "metadata": {},
   "outputs": [],
   "source": []
  },
  {
   "cell_type": "code",
   "execution_count": null,
   "id": "cdcd3919",
   "metadata": {},
   "outputs": [],
   "source": []
  },
  {
   "cell_type": "code",
   "execution_count": null,
   "id": "0b9833f5",
   "metadata": {},
   "outputs": [],
   "source": []
  },
  {
   "cell_type": "code",
   "execution_count": null,
   "id": "46fec1f6",
   "metadata": {},
   "outputs": [],
   "source": []
  },
  {
   "cell_type": "code",
   "execution_count": null,
   "id": "5eda7320",
   "metadata": {},
   "outputs": [],
   "source": []
  },
  {
   "cell_type": "code",
   "execution_count": null,
   "id": "2db6f5c3",
   "metadata": {},
   "outputs": [],
   "source": []
  },
  {
   "cell_type": "code",
   "execution_count": null,
   "id": "cd77aeb1",
   "metadata": {},
   "outputs": [],
   "source": []
  },
  {
   "cell_type": "code",
   "execution_count": null,
   "id": "99efca3b",
   "metadata": {},
   "outputs": [],
   "source": []
  },
  {
   "cell_type": "code",
   "execution_count": null,
   "id": "dd0e8b9e",
   "metadata": {},
   "outputs": [],
   "source": []
  },
  {
   "cell_type": "code",
   "execution_count": null,
   "id": "648f39f5",
   "metadata": {},
   "outputs": [],
   "source": []
  },
  {
   "cell_type": "code",
   "execution_count": null,
   "id": "6ff2efec",
   "metadata": {},
   "outputs": [],
   "source": []
  },
  {
   "cell_type": "code",
   "execution_count": null,
   "id": "754a15e1",
   "metadata": {},
   "outputs": [],
   "source": []
  },
  {
   "cell_type": "code",
   "execution_count": null,
   "id": "b3340b4b",
   "metadata": {},
   "outputs": [],
   "source": []
  },
  {
   "cell_type": "code",
   "execution_count": null,
   "id": "88538c56",
   "metadata": {},
   "outputs": [],
   "source": []
  },
  {
   "cell_type": "code",
   "execution_count": null,
   "id": "590af507",
   "metadata": {},
   "outputs": [],
   "source": []
  },
  {
   "cell_type": "code",
   "execution_count": null,
   "id": "d7bca4ef",
   "metadata": {},
   "outputs": [],
   "source": []
  },
  {
   "cell_type": "code",
   "execution_count": null,
   "id": "e36c268b",
   "metadata": {},
   "outputs": [],
   "source": []
  },
  {
   "cell_type": "code",
   "execution_count": null,
   "id": "ec928333",
   "metadata": {},
   "outputs": [],
   "source": []
  }
 ],
 "metadata": {
  "kernelspec": {
   "display_name": "Python 3 (ipykernel)",
   "language": "python",
   "name": "python3"
  },
  "language_info": {
   "codemirror_mode": {
    "name": "ipython",
    "version": 3
   },
   "file_extension": ".py",
   "mimetype": "text/x-python",
   "name": "python",
   "nbconvert_exporter": "python",
   "pygments_lexer": "ipython3",
   "version": "3.10.10"
  }
 },
 "nbformat": 4,
 "nbformat_minor": 5
}
